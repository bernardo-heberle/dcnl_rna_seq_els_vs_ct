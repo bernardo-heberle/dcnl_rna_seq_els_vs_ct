{
 "cells": [
  {
   "cell_type": "code",
   "execution_count": 2,
   "metadata": {},
   "outputs": [],
   "source": [
    "# Load library\n",
    "import pandas as pd"
   ]
  },
  {
   "cell_type": "code",
   "execution_count": 3,
   "metadata": {},
   "outputs": [],
   "source": [
    "# Load feature matrix\n",
    "input_file = \"../count_data/feature_counts.txt\"\n",
    "\n",
    "df = pd.read_csbv(input_file, delimiter = \"\\t\", header=1)"
   ]
  },
  {
   "cell_type": "code",
   "execution_count": 4,
   "metadata": {},
   "outputs": [],
   "source": [
    "# Drop unnecessary columns\n",
    "df.drop(columns=[\"Chr\", \"Start\", \"End\", \"Strand\", \"Length\", \"gene_name\"], inplace=True)"
   ]
  },
  {
   "cell_type": "code",
   "execution_count": 5,
   "metadata": {},
   "outputs": [
    {
     "data": {
      "text/plain": [
       "Index(['Geneid', 'CT4M.bam', 'CT2M.bam', 'CT9M.bam', 'CT3F.bam', 'ELS1M.bam',\n",
       "       'CT17F.bam', 'ELS2M.bam', 'ELS11M.bam', 'ELS20F.bam', 'CT3M.bam',\n",
       "       'CT19F.bam', 'CT12F.bam', 'CT5F.bam', 'ELS14F.bam', 'ELS7F.bam',\n",
       "       'ELS15F.bam', 'ELS18F.bam', 'CT1M.bam', 'ELS10M.bam', 'ELS3M.bam',\n",
       "       'CT15F.bam', 'CT11M.bam', 'ELS4M.bam', 'ELS17F.bam'],\n",
       "      dtype='object')"
      ]
     },
     "execution_count": 5,
     "metadata": {},
     "output_type": "execute_result"
    }
   ],
   "source": [
    "# See columns\n",
    "df.columns"
   ]
  },
  {
   "cell_type": "code",
   "execution_count": 6,
   "metadata": {},
   "outputs": [],
   "source": [
    "# Rename columns\n",
    "df.columns = [\"Geneid\", 'CT4M', 'CT2M', 'CT9M', 'CT3F', 'ELS1M',\n",
    "       'CT17F', 'ELS2M', 'ELS11M', 'ELS20F', 'CT3M',\n",
    "       'CT19F', 'CT12F', 'CT5F', 'ELS14F', 'ELS7F',\n",
    "       'ELS15F', 'ELS18F', 'CT1M', 'ELS10M', 'ELS3M',\n",
    "       'CT15F', 'CT11M', 'ELS4M', 'ELS17F']"
   ]
  },
  {
   "cell_type": "code",
   "execution_count": 7,
   "metadata": {},
   "outputs": [],
   "source": [
    "# Generate dataframe with only male data\n",
    "df_male = df[[\"Geneid\", 'CT4M', 'CT2M', 'CT9M', 'ELS1M',\n",
    "       'ELS2M', 'ELS11M', 'CT3M',\n",
    "       'CT1M', 'ELS10M', 'ELS3M',\n",
    "       'CT11M', 'ELS4M']]"
   ]
  },
  {
   "cell_type": "code",
   "execution_count": 9,
   "metadata": {},
   "outputs": [],
   "source": [
    "# Generate dataframe with only female data\n",
    "df_female = df[[\"Geneid\", 'CT3F', 'CT17F', 'ELS20F',\n",
    "       'CT19F', 'CT12F', 'CT5F', 'ELS14F', 'ELS7F',\n",
    "       'ELS15F', 'ELS18F', 'CT15F', 'ELS17F']]"
   ]
  },
  {
   "cell_type": "code",
   "execution_count": 13,
   "metadata": {},
   "outputs": [],
   "source": [
    "# Save male only data\n",
    "df_male.to_csv(\"../deseq2_data/male_counts.csv\", index=False)"
   ]
  },
  {
   "cell_type": "code",
   "execution_count": 14,
   "metadata": {},
   "outputs": [],
   "source": [
    "# Save female only data\n",
    "df_female.to_csv(\"../deseq2_data/female_counts.csv\", index=False)"
   ]
  }
 ],
 "metadata": {
  "kernelspec": {
   "display_name": "Python 3",
   "language": "python",
   "name": "python3"
  },
  "language_info": {
   "codemirror_mode": {
    "name": "ipython",
    "version": 3
   },
   "file_extension": ".py",
   "mimetype": "text/x-python",
   "name": "python",
   "nbconvert_exporter": "python",
   "pygments_lexer": "ipython3",
   "version": "3.8.5"
  }
 },
 "nbformat": 4,
 "nbformat_minor": 4
}
